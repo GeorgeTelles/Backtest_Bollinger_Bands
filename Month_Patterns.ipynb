{
  "nbformat": 4,
  "nbformat_minor": 0,
  "metadata": {
    "colab": {
      "provenance": [],
      "authorship_tag": "ABX9TyP9UbmgJskdcwuzSU9zOWW6",
      "include_colab_link": true
    },
    "kernelspec": {
      "name": "python3",
      "display_name": "Python 3"
    },
    "language_info": {
      "name": "python"
    }
  },
  "cells": [
    {
      "cell_type": "markdown",
      "metadata": {
        "id": "view-in-github",
        "colab_type": "text"
      },
      "source": [
        "<a href=\"https://colab.research.google.com/github/GeorgeTelles/Backtest_Bollinger_Bands/blob/main/Month_Patterns.ipynb\" target=\"_parent\"><img src=\"https://colab.research.google.com/assets/colab-badge.svg\" alt=\"Open In Colab\"/></a>"
      ]
    },
    {
      "cell_type": "markdown",
      "source": [
        "<div>\n",
        "  <img src=\"https://raw.githubusercontent.com/GeorgeTelles/georgetelles/f69531ec6b293b5148563588a764c010015d315e/logo_clara.png\" alt=\"logo clara\" width=\"300\" style=\"display: inline-block; vertical-align: top; margin-right: 10px;\">\n",
        "  <img src=\"https://raw.githubusercontent.com/GeorgeTelles/georgetelles/f69531ec6b293b5148563588a764c010015d315e/logo_dark.png\" alt=\"logo dark\" width=\"300\" style=\"display: inline-block; vertical-align: top;\">\n",
        "</div>"
      ],
      "metadata": {
        "id": "b4UuTyapVQQJ"
      }
    },
    {
      "cell_type": "markdown",
      "source": [
        "# Monthly Pattern Analyzer"
      ],
      "metadata": {
        "id": "_YNimEcHVWyY"
      }
    },
    {
      "cell_type": "markdown",
      "source": [
        "\n",
        "\n",
        "## Description\n",
        "\n",
        "The **Monthly Pattern Analyzer** is a project designed to identify and analyze performance patterns of stocks based on the months of the year. This algorithm examines historical data to determine if there are recurring trends or behaviors in specific months, such as January, February, March, and so on. The goal is to identify months that exhibit higher gains or losses in stock performance.\n",
        "\n",
        "## Features\n",
        "\n",
        "- **Data Import**: Retrieves historical market data using the MetaTrader5 library.\n",
        "- **Pattern Analysis**: Assesses stock performance for each month of the year.\n",
        "- **Outlier Handling**: Filters outliers to enhance the accuracy of monthly pattern analysis.\n",
        "- **Visualization and Export**: Consolidates results into a DataFrame and exports them to an Excel file for detailed analysis and review.\n",
        "\n",
        "## Workflow\n",
        "\n",
        "1. **Import Libraries**: Load the necessary libraries for data processing and analysis.\n",
        "2. **Create Asset List**: Define the assets to be analyzed, which may include specific stocks or indices.\n",
        "3. **Set Start Date**: Establish the start date for analyzing historical data.\n",
        "4. **Calculate Results**: Implements a function to:\n",
        "   - Initialize the MetaTrader5 connection.\n",
        "   - Retrieve historical data for the specified time periods.\n",
        "   - Calculate performance metrics for each month of the year.\n",
        "   - Remove outliers for more accurate pattern analysis.\n",
        "   - Aggregate data by month and calculate relevant statistics.\n",
        "5. **Process Data**: Execute the calculation function for all specified assets and time periods, consolidating the results into a DataFrame.\n",
        "6. **Export Results**: Export the analyzed data to an Excel file for easy review and detailed analysis.\n",
        "\n",
        "## Usage\n",
        "\n",
        "1. **Install Dependencies**: Ensure all necessary libraries are installed.\n",
        "2. **Define Asset List**: Configure the list of assets for analysis, including specific stocks or indices.\n",
        "3. **Run the Script**: Execute the script to analyze stock performance by month.\n",
        "4. **Review and Export Results**: Results will be consolidated and exported to an Excel file for detailed review and analysis.\n",
        "\n",
        "## Contributing\n",
        "\n",
        "Contributions are welcome! If you have suggestions for improvements or want to add new features, feel free to open an issue or submit a pull request.\n",
        "\n",
        "## License\n",
        "\n",
        "This project is licensed under the [MIT License](LICENSE)."
      ],
      "metadata": {
        "id": "d6DUvitPVRgo"
      }
    },
    {
      "cell_type": "markdown",
      "source": [
        "#Instalação e Improtação de Biliotecas"
      ],
      "metadata": {
        "id": "Am8BWUsQVZYo"
      }
    },
    {
      "cell_type": "code",
      "source": [
        "!pip install tradingcomdados"
      ],
      "metadata": {
        "id": "ZLgOnBKGtPgt"
      },
      "execution_count": null,
      "outputs": []
    },
    {
      "cell_type": "code",
      "execution_count": null,
      "metadata": {
        "id": "3NOxJb43szj7"
      },
      "outputs": [],
      "source": [
        "import yfinance as yf\n",
        "from datetime import datetime\n",
        "import pandas as pd\n",
        "import tkinter as tk\n",
        "from tkinter import ttk\n",
        "from tkinter import messagebox\n",
        "import os\n",
        "from tradingcomdados import alternative_data as ad"
      ]
    },
    {
      "cell_type": "markdown",
      "source": [
        "**Lista IBOV**"
      ],
      "metadata": {
        "id": "InaDO-FdtXJu"
      }
    },
    {
      "cell_type": "code",
      "source": [
        "lista_ativos = [codigo + '.SA' for codigo in ad.index_composition('ibov', mode = 'list')]"
      ],
      "metadata": {
        "id": "FEHDp-nStViF"
      },
      "execution_count": null,
      "outputs": []
    },
    {
      "cell_type": "markdown",
      "source": [
        "**Lista Personalizada**"
      ],
      "metadata": {
        "id": "54ChVFxL7nk9"
      }
    },
    {
      "cell_type": "code",
      "source": [
        "lista_ativos = [\"PETR4.SA\",]"
      ],
      "metadata": {
        "id": "7rbU9FXS6lLF"
      },
      "execution_count": null,
      "outputs": []
    },
    {
      "cell_type": "code",
      "source": [
        "# Definir tradução de meses\n",
        "traducao_meses = {\n",
        "    1: 'Janeiro',\n",
        "    2: 'Fevereiro',\n",
        "    3: 'Março',\n",
        "    4: 'Abril',\n",
        "    5: 'Maio',\n",
        "    6: 'Junho',\n",
        "    7: 'Julho',\n",
        "    8: 'Agosto',\n",
        "    9: 'Setembro',\n",
        "    10: 'Outubro',\n",
        "    11: 'Novembro',\n",
        "    12: 'Dezembro'\n",
        "}\n",
        "\n"
      ],
      "metadata": {
        "id": "JOqXZlO7s6cE"
      },
      "execution_count": null,
      "outputs": []
    },
    {
      "cell_type": "code",
      "source": [
        "# Inicializar listas globais\n",
        "empresas_globais = []\n",
        "meses_globais = []\n",
        "resultados_globais = []\n",
        "holds = []\n",
        "\n",
        "for ativo in lista_ativos:\n",
        "    try:\n",
        "        # Extrair dados do Yahoo Finance\n",
        "        stock_data = yf.download(ativo, start=\"2013-01-01\", interval=\"1mo\")\n",
        "        stock_data['Mes'] = stock_data.index.month\n",
        "        stock_data['Variacao_Porcentagem'] = ((stock_data['Close'] - stock_data['Open']) / stock_data['Open']) * 100\n",
        "        # Calcular a variação percentual desde o início do período até o final\n",
        "        hold = ((stock_data['Adj Close'].iloc[-1] - stock_data['Adj Close'].iloc[0]) / stock_data['Adj Close'].iloc[0]) * 100\n",
        "\n",
        "         #Tratando os outliers:\n",
        "        mean = stock_data['Variacao_Porcentagem'].mean()\n",
        "        std_dev = stock_data['Variacao_Porcentagem'].std()\n",
        "        lower_bound = mean - 3 * std_dev\n",
        "        upper_bound = mean + 3 * std_dev\n",
        "\n",
        "        # Atualizar rates_frame para remover outliers\n",
        "        stock_data = stock_data[\n",
        "            (stock_data['Variacao_Porcentagem'] >= lower_bound) &\n",
        "            (stock_data['Variacao_Porcentagem'] <= upper_bound)\n",
        "        ]\n",
        "\n",
        "        grupo_mes = stock_data.groupby('Mes')['Variacao_Porcentagem'].sum()\n",
        "        group_data_filtrado = pd.DataFrame()\n",
        "\n",
        "        # Inicializar listas temporárias para cada ativo\n",
        "        empresas_temp = []\n",
        "        meses_temp = []\n",
        "        resultados_temp = []\n",
        "        holds_temp = []\n",
        "\n",
        "        grupo_mes_filtrado = stock_data.groupby('Mes')['Variacao_Porcentagem'].sum()\n",
        "\n",
        "        # Loop sobre o grupo filtrado\n",
        "        for mes, resultado in zip(grupo_mes_filtrado.index, grupo_mes_filtrado):\n",
        "            mes_traduzido = traducao_meses[mes]\n",
        "            resultado_formatado = \"{:.2f}\".format(resultado)  # Formatação com duas casas decimais\n",
        "\n",
        "            empresas_temp.append(ativo)\n",
        "            meses_temp.append(mes_traduzido)\n",
        "            resultados_temp.append(resultado_formatado)\n",
        "            holds_temp.append(hold)\n",
        "\n",
        "        # Estender as listas globais com as listas temporárias\n",
        "        empresas_globais.extend(empresas_temp)\n",
        "        meses_globais.extend(meses_temp)\n",
        "        resultados_globais.extend(resultados_temp)\n",
        "        holds.extend(holds_temp)\n",
        "\n",
        "    except Exception as e:\n",
        "        print(f\"Erro ao processar {ativo}: {e}\")\n",
        "\n",
        "# Criação do DataFrame com as listas globais\n",
        "df_resultados = pd.DataFrame({\n",
        "    'Empresa': empresas_globais,\n",
        "    'Mes': meses_globais,\n",
        "    'Resultado': resultados_globais,\n",
        "    \"Hold\": holds\n",
        "})\n",
        "\n",
        "df_resultados['Resultado'] = pd.to_numeric(df_resultados['Resultado'], errors='coerce')"
      ],
      "metadata": {
        "id": "LwyBLPtpu5h2"
      },
      "execution_count": null,
      "outputs": []
    },
    {
      "cell_type": "markdown",
      "source": [
        "# Todos os resultados"
      ],
      "metadata": {
        "id": "A7_k19r9wqC2"
      }
    },
    {
      "cell_type": "code",
      "source": [
        "df_resultados"
      ],
      "metadata": {
        "id": "Whnr9JbJwGI1"
      },
      "execution_count": null,
      "outputs": []
    },
    {
      "cell_type": "markdown",
      "source": [
        "#Melhores Resultados"
      ],
      "metadata": {
        "id": "k9fbjPncwr89"
      }
    },
    {
      "cell_type": "code",
      "source": [
        "df_resultados.sort_values(by=\"Resultado\", ascending=False).head(10)"
      ],
      "metadata": {
        "id": "8NovKNqgt8Xy"
      },
      "execution_count": null,
      "outputs": []
    },
    {
      "cell_type": "code",
      "source": [
        "excel_file_path = \"/content/resultados_mensais.xlsx\"\n",
        "df_resultados.to_excel(excel_file_path, index=False)"
      ],
      "metadata": {
        "id": "EMPYE02rtA61"
      },
      "execution_count": null,
      "outputs": []
    }
  ]
}