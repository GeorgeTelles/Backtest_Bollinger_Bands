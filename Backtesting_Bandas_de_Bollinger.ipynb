{
  "nbformat": 4,
  "nbformat_minor": 0,
  "metadata": {
    "colab": {
      "provenance": [],
      "include_colab_link": true
    },
    "kernelspec": {
      "name": "python3",
      "display_name": "Python 3"
    },
    "language_info": {
      "name": "python"
    }
  },
  "cells": [
    {
      "cell_type": "markdown",
      "metadata": {
        "id": "view-in-github",
        "colab_type": "text"
      },
      "source": [
        "<a href=\"https://colab.research.google.com/github/GeorgeTelles/backtest_bollinger_bands/blob/main/Backtesting_Bandas_de_Bollinger.ipynb\" target=\"_parent\"><img src=\"https://colab.research.google.com/assets/colab-badge.svg\" alt=\"Open In Colab\"/></a>"
      ]
    },
    {
      "cell_type": "markdown",
      "source": [
        "<div>\n",
        "  <img src=\"https://raw.githubusercontent.com/GeorgeTelles/georgetelles/f69531ec6b293b5148563588a764c010015d315e/logo_clara.png\" alt=\"logo clara\" width=\"300\" style=\"display: inline-block; vertical-align: top; margin-right: 10px;\">\n",
        "  <img src=\"https://raw.githubusercontent.com/GeorgeTelles/georgetelles/f69531ec6b293b5148563588a764c010015d315e/logo_dark.png\" alt=\"logo dark\" width=\"300\" style=\"display: inline-block; vertical-align: top;\">\n",
        "</div>"
      ],
      "metadata": {
        "id": "bdEdMMKzoWPc"
      }
    },
    {
      "cell_type": "markdown",
      "source": [
        "---\n",
        "# **Backtesting: Bandas de Bollinger**\n",
        "---"
      ],
      "metadata": {
        "id": "Kvwdp1rQsJl2"
      }
    },
    {
      "cell_type": "markdown",
      "source": [
        "## Descrição\n",
        "\n",
        "Este projeto tem como objetivo desenvolver um algoritmo em Python para realizar backtesting de ativos financeiros utilizando as Bandas de Bollinger. O backtesting é uma técnica essencial para avaliar a eficácia de estratégias de investimento, permitindo que os investidores testem suas abordagens com dados históricos antes de aplicá-las em tempo real.\n",
        "\n",
        "\n",
        "## Funcionalidades do Projeto\n",
        "\n",
        "- **Coleta de Dados**: Importar dados históricos de preços de ativos financeiros (ações, moedas, etc.) a partir de fontes como APIs financeiras ou arquivos CSV.\n",
        "- **Cálculo das Bandas de Bollinger**: Implementar o cálculo das bandas superior, inferior e da média móvel.\n",
        "- **Simulação de Estratégias**: Testar diferentes estratégias de negociação baseadas nas Bandas de Bollinger, como a estratégia de rompimento ou reversão à média.\n",
        "- **Avaliação de Desempenho**: Medir o desempenho das estratégias usando métricas como retorno total, drawdown, e outras métricas financeiras relevantes.\n",
        "- **Visualização**: Gerar gráficos para visualizar os preços dos ativos, as Bandas de Bollinger e os sinais de compra/venda.\n",
        "\n",
        "## Tecnologias Utilizadas\n",
        "\n",
        "- **Linguagem**: Python\n",
        "- **Bibliotecas**:\n",
        "  - `pandas` para manipulação de dados\n",
        "  - `numpy` para cálculos numéricos\n",
        "  - `matplotlib` e `seaborn` para visualização\n",
        "  - `requests` ou `yfinance` para coleta de dados financeiros\n",
        "- **Ambiente de Desenvolvimento**: Jupyter Notebook ou IDE de sua escolha\n",
        "\n",
        "## Estrutura do Projeto\n",
        "\n",
        "1. **Data Collection**: Scripts para importar e limpar dados financeiros.\n",
        "2. **Bollinger Bands Calculation**: Implementação dos cálculos das bandas superior e inferior.\n",
        "3. **Backtesting Engine**: Lógica para simulação de estratégias de negociação e avaliação de desempenho.\n",
        "4. **Visualization**: Ferramentas para criar gráficos e relatórios.\n"
      ],
      "metadata": {
        "id": "NPtFiC5ABkeD"
      }
    },
    {
      "cell_type": "markdown",
      "source": [
        "**Disclaimer:**<p>\n",
        "*Este código foi elaborado para fins exclusivamente demostrativos. O conteúdo aqui apresentado visa fornecer informações complementares para auxiliar o investidor na tomada de suas próprias decisões de investimento. Reforçando, nenhum tópico aqui abordado constitui qualquer tipo de indicação/oferta/solicitação de compra/venda de qualquer produto.*"
      ],
      "metadata": {
        "id": "3aMQZNT9sQt1"
      }
    },
    {
      "cell_type": "markdown",
      "source": [
        "Documentação da biblioteca que será usada: <p>\n",
        "\n",
        "https://vectorbt.dev/"
      ],
      "metadata": {
        "id": "mrZKgAdhsaX2"
      }
    },
    {
      "cell_type": "markdown",
      "source": [
        "##O que são as bandas de bollinger\n",
        "\n",
        "- Bandas de Bollinger são uma ferramenta popular na análise técnica usada para avaliar a volatilidade e os movimentos de preços de um ativo financeiro, como ações, moedas, commodities, entre outros. Elas foram desenvolvidas por John Bollinger na década de 1980 e consistem em três linhas que são plotadas em um gráfico de preços.\n",
        "\n",
        "As três linhas das Bandas de Bollinger são as seguintes:\n",
        "\n",
        "- Média Móvel Simples (MMS): É uma linha que representa a média dos preços de fechamento do ativo ao longo de um determinado período de tempo. O período padrão é geralmente definido como 20 períodos, mas os traders podem ajustá-lo conforme a sua estratégia.\n",
        "\n",
        "- Banda Superior: Essa banda é calculada somando duas vezes o desvio padrão da média móvel simples ao preço médio. A fórmula é: Banda Superior = Média Móvel Simples + (2 * Desvio Padrão).\n",
        "\n",
        "- Banda Inferior: Similarmente à banda superior, a banda inferior é calculada subtraindo duas vezes o desvio padrão da média móvel simples do preço médio. A fórmula é: Banda Inferior = Média Móvel Simples - (2 * Desvio Padrão).\n",
        "\n",
        "As bandas de Bollinger se expandem ou contraem em resposta à volatilidade do mercado. Quando a volatilidade é alta, as bandas se expandem, e quando a volatilidade é baixa, elas se contraem. Isso faz com que as bandas se ajustem às mudanças de volatilidade, proporcionando uma representação visual da possível amplitude dos movimentos de preços."
      ],
      "metadata": {
        "id": "vdpQKmye5b-2"
      }
    },
    {
      "cell_type": "markdown",
      "source": [
        "#1.Instalando e importando Bibliotecas"
      ],
      "metadata": {
        "id": "lPavKsjjFpgj"
      }
    },
    {
      "cell_type": "code",
      "source": [
        "!pip install yfinance\n",
        "!pip install vectorbt\n",
        "!pip install ta"
      ],
      "metadata": {
        "id": "v8imKHZtpIyn"
      },
      "execution_count": null,
      "outputs": []
    },
    {
      "cell_type": "code",
      "source": [
        "import pandas as pd\n",
        "import numpy as np\n",
        "\n",
        "import vectorbt as vbt\n",
        "import yfinance as yf\n",
        "import ta\n",
        "\n",
        "import plotly.graph_objects as go"
      ],
      "metadata": {
        "id": "UpgWsOT2pJRf"
      },
      "execution_count": null,
      "outputs": []
    },
    {
      "cell_type": "markdown",
      "source": [
        "#2. Capturando os dados"
      ],
      "metadata": {
        "id": "JP7e8bdr6BfV"
      }
    },
    {
      "cell_type": "code",
      "source": [
        "ativo = 'PETR4.SA'"
      ],
      "metadata": {
        "id": "87BcpTa88bZy"
      },
      "execution_count": null,
      "outputs": []
    },
    {
      "cell_type": "code",
      "source": [
        "dados_ohlc = vbt.YFData.download(ativo, start='2013-03-07').get(['Open', 'High', 'Low', 'Close'])\n",
        "dados_ohlc"
      ],
      "metadata": {
        "id": "UHMXyazx7wkp"
      },
      "execution_count": null,
      "outputs": []
    },
    {
      "cell_type": "markdown",
      "source": [
        "#3. Construindo os indicador (Bandas de Bollinger)"
      ],
      "metadata": {
        "id": "rtF0r5Yx6ZiU"
      }
    },
    {
      "cell_type": "code",
      "source": [
        "bbol_ativo = ta.volatility.BollingerBands(dados_ohlc.Close, window=20, window_dev=2)\n",
        "dados_ohlc['BBol_sup'] = bbol_ativo.bollinger_hband()\n",
        "dados_ohlc['BBol_inf'] = bbol_ativo.bollinger_lband()\n",
        "dados_ohlc['BBol_media'] = bbol_ativo.bollinger_mavg()\n",
        "dados_ohlc = dados_ohlc.dropna()\n",
        "dados_ohlc"
      ],
      "metadata": {
        "id": "EyxVLCl58zWt"
      },
      "execution_count": null,
      "outputs": []
    },
    {
      "cell_type": "markdown",
      "source": [
        "#4. Plotando o gráfico"
      ],
      "metadata": {
        "id": "lbVEiQfH6dCQ"
      }
    },
    {
      "cell_type": "code",
      "source": [
        "vbt.BBANDS.run(dados_ohlc.Close,20).plot().show()"
      ],
      "metadata": {
        "id": "v2tyNQs1_6UJ"
      },
      "execution_count": null,
      "outputs": []
    },
    {
      "cell_type": "markdown",
      "source": [
        "#5. Construindo os sinais de entrada e saída"
      ],
      "metadata": {
        "id": "rufDVrfx6_O8"
      }
    },
    {
      "cell_type": "code",
      "source": [
        "entradas = dados_ohlc['Close'].vbt.crossed_above(dados_ohlc['BBol_inf'])\n",
        "saidas = dados_ohlc['Close'].vbt.crossed_below(dados_ohlc['BBol_sup'])"
      ],
      "metadata": {
        "id": "gcl4W6FY-Mla"
      },
      "execution_count": null,
      "outputs": []
    },
    {
      "cell_type": "markdown",
      "source": [
        "#6. Realizando o backtesting"
      ],
      "metadata": {
        "id": "LoecVHwy7GXP"
      }
    },
    {
      "cell_type": "code",
      "source": [
        "backtest_BBol = vbt.Portfolio.from_signals(dados_ohlc['Close'],\n",
        "                                           entradas,\n",
        "                                           saidas,\n",
        "                                           direction='longonly',\n",
        "                                           size_type='Amount', size=1)"
      ],
      "metadata": {
        "id": "ZUQ_X4FWB-C8"
      },
      "execution_count": null,
      "outputs": []
    },
    {
      "cell_type": "markdown",
      "source": [
        "**Relatorio com Grafico das operações**"
      ],
      "metadata": {
        "id": "FrIF0GvRH-Wr"
      }
    },
    {
      "cell_type": "code",
      "source": [
        "backtest_BBol.plot().show()"
      ],
      "metadata": {
        "id": "lgrdseYPCU94"
      },
      "execution_count": null,
      "outputs": []
    },
    {
      "cell_type": "markdown",
      "source": [
        "**Metricas do Backtesting**"
      ],
      "metadata": {
        "id": "Mj8k1NTiIDLb"
      }
    },
    {
      "cell_type": "code",
      "source": [
        "backtest_BBol.stats()"
      ],
      "metadata": {
        "id": "2jAZBV35Cebw"
      },
      "execution_count": null,
      "outputs": []
    },
    {
      "cell_type": "markdown",
      "source": [
        "**Grafico dos maiores DrawDowns**"
      ],
      "metadata": {
        "id": "p56rnlmNIXJ8"
      }
    },
    {
      "cell_type": "code",
      "source": [
        "backtest_BBol.drawdowns.plot(top_n=3).show()"
      ],
      "metadata": {
        "id": "adtkzvvXEICY"
      },
      "execution_count": null,
      "outputs": []
    },
    {
      "cell_type": "markdown",
      "source": [
        "**Detalhes de cada operação**"
      ],
      "metadata": {
        "id": "hybB6ridIcfj"
      }
    },
    {
      "cell_type": "code",
      "source": [
        "backtest_BBol.orders.records_readable"
      ],
      "metadata": {
        "id": "0jpvmA0vEMMR"
      },
      "execution_count": null,
      "outputs": []
    },
    {
      "cell_type": "markdown",
      "source": [
        "## Conclusão do Projeto\n",
        "\n",
        "**O projeto de backtesting utilizando Bandas de Bollinger forneceu carios insights**\n",
        "\n",
        "### Análise dos Resultados\n",
        "\n",
        "- **Retorno Total**: A estratégia obteve um retorno total de 12,9945% durante o período testado, o que é modesto em comparação com o retorno do benchmark de 596,553853%. Isso sugere que, atualmente, a estratégia de Bandas de Bollinger não superou o benchmark.\n",
        "\n",
        "- **Exposição e Drawdown**: A exposição máxima foi de 34,169361%, com um drawdown máximo de 6,627826%, indicando uma boa gestão de risco, mas com alguma volatilidade.\n",
        "\n",
        "- **Taxa de Sucesso e Fator de Lucro**: A taxa de sucesso foi de 71,428571% e o fator de lucro foi de 2,065643, o que mostra que as negociações vencedoras foram, em média, mais lucrativas do que as perdedoras, apesar de algumas negociações terem resultado em perdas significativas.\n",
        "\n",
        "- **Expectativa**: A expectativa positiva de 0,369557 sugere que, em média, cada negociação gerou um retorno positivo.\n",
        "\n",
        "### Possibilidades de Melhoria\n",
        "\n",
        "Os resultados mostram que há oportunidades para otimizar a estratégia. Ajustar os parâmetros das Bandas de Bollinger, como o período da média móvel e o número de desvios padrão, pode impactar significativamente os resultados. Além disso, ajustar os critérios de entrada e saída, e incorporar filtros adicionais pode melhorar o desempenho da estratégia.\n",
        "\n",
        "Recomenda-se experimentar diferentes configurações e parâmetros para adaptar a estratégia às características específicas do ativo ou do mercado em questão, buscando um melhor equilíbrio entre risco e retorno.\n",
        "\n",
        "---\n",
        "\n",
        "Se precisar de ajuda para ajustar a estratégia ou realizar análises adicionais, sinta-se à vontade para entrar em contato.\n"
      ],
      "metadata": {
        "id": "nSY_EeIrKWyy"
      }
    }
  ]
}