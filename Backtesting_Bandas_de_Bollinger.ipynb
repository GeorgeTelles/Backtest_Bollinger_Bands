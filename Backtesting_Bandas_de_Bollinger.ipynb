{
  "nbformat": 4,
  "nbformat_minor": 0,
  "metadata": {
    "colab": {
      "provenance": [],
      "collapsed_sections": [
        "Kvwdp1rQsJl2"
      ],
      "include_colab_link": true
    },
    "kernelspec": {
      "name": "python3",
      "display_name": "Python 3"
    },
    "language_info": {
      "name": "python"
    }
  },
  "cells": [
    {
      "cell_type": "markdown",
      "metadata": {
        "id": "view-in-github",
        "colab_type": "text"
      },
      "source": [
        "<a href=\"https://colab.research.google.com/github/GeorgeTelles/Backtest_Bollinger_Bands/blob/main/Backtesting_Bandas_de_Bollinger.ipynb\" target=\"_parent\"><img src=\"https://colab.research.google.com/assets/colab-badge.svg\" alt=\"Open In Colab\"/></a>"
      ]
    },
    {
      "cell_type": "markdown",
      "source": [
        "<div>\n",
        "  <img src=\"https://raw.githubusercontent.com/GeorgeTelles/georgetelles/f69531ec6b293b5148563588a764c010015d315e/logo_clara.png\" alt=\"logo clara\" width=\"300\" style=\"display: inline-block; vertical-align: top; margin-right: 10px;\">\n",
        "  <img src=\"https://raw.githubusercontent.com/GeorgeTelles/georgetelles/f69531ec6b293b5148563588a764c010015d315e/logo_dark.png\" alt=\"logo dark\" width=\"300\" style=\"display: inline-block; vertical-align: top;\">\n",
        "</div>"
      ],
      "metadata": {
        "id": "bdEdMMKzoWPc"
      }
    },
    {
      "cell_type": "markdown",
      "source": [
        "---\n",
        "# **Backtesting: Bandas de Bollinger**\n",
        "---"
      ],
      "metadata": {
        "id": "Kvwdp1rQsJl2"
      }
    },
    {
      "cell_type": "markdown",
      "source": [
        "## Descrição\n",
        "\n",
        "Este projeto tem como objetivo desenvolver um algoritmo em Python para realizar backtesting de ativos financeiros utilizando as Bandas de Bollinger. O backtesting é uma técnica essencial para avaliar a eficácia de estratégias de investimento, permitindo que os investidores testem suas abordagens com dados históricos antes de aplicá-las em tempo real.\n",
        "\n",
        "\n",
        "## Funcionalidades do Projeto\n",
        "\n",
        "- **Coleta de Dados**: Importar dados históricos de preços de ativos financeiros (ações, moedas, etc.) a partir de fontes como APIs financeiras ou arquivos CSV.\n",
        "- **Cálculo das Bandas de Bollinger**: Implementar o cálculo das bandas superior, inferior e da média móvel.\n",
        "- **Simulação de Estratégias**: Testar diferentes estratégias de negociação baseadas nas Bandas de Bollinger, como a estratégia de rompimento ou reversão à média.\n",
        "- **Avaliação de Desempenho**: Medir o desempenho das estratégias usando métricas como retorno total, drawdown, e outras métricas financeiras relevantes.\n",
        "- **Visualização**: Gerar gráficos para visualizar os preços dos ativos, as Bandas de Bollinger e os sinais de compra/venda.\n",
        "\n",
        "## Tecnologias Utilizadas\n",
        "\n",
        "- **Linguagem**: Python\n",
        "- **Bibliotecas**:\n",
        "  - `pandas` para manipulação de dados\n",
        "  - `numpy` para cálculos numéricos\n",
        "  - `matplotlib` e `seaborn` para visualização\n",
        "  - `requests` ou `yfinance` para coleta de dados financeiros\n",
        "- **Ambiente de Desenvolvimento**: Jupyter Notebook ou IDE de sua escolha\n",
        "\n",
        "## Estrutura do Projeto\n",
        "\n",
        "1. **Data Collection**: Scripts para importar e limpar dados financeiros.\n",
        "2. **Bollinger Bands Calculation**: Implementação dos cálculos das bandas superior e inferior.\n",
        "3. **Backtesting Engine**: Lógica para simulação de estratégias de negociação e avaliação de desempenho.\n",
        "4. **Visualization**: Ferramentas para criar gráficos e relatórios.\n"
      ],
      "metadata": {
        "id": "NPtFiC5ABkeD"
      }
    },
    {
      "cell_type": "markdown",
      "source": [
        "**Disclaimer:**<p>\n",
        "*Este código foi elaborado para fins exclusivamente demostrativos. O conteúdo aqui apresentado visa fornecer informações complementares para auxiliar o investidor na tomada de suas próprias decisões de investimento. Reforçando, nenhum tópico aqui abordado constitui qualquer tipo de indicação/oferta/solicitação de compra/venda de qualquer produto.*"
      ],
      "metadata": {
        "id": "3aMQZNT9sQt1"
      }
    },
    {
      "cell_type": "markdown",
      "source": [
        "Documentação da biblioteca que será usada: <p>\n",
        "\n",
        "https://vectorbt.dev/"
      ],
      "metadata": {
        "id": "mrZKgAdhsaX2"
      }
    },
    {
      "cell_type": "markdown",
      "source": [
        "##O que são as bandas de bollinger\n",
        "\n",
        "- Bandas de Bollinger são uma ferramenta popular na análise técnica usada para avaliar a volatilidade e os movimentos de preços de um ativo financeiro, como ações, moedas, commodities, entre outros. Elas foram desenvolvidas por John Bollinger na década de 1980 e consistem em três linhas que são plotadas em um gráfico de preços.\n",
        "\n",
        "As três linhas das Bandas de Bollinger são as seguintes:\n",
        "\n",
        "- Média Móvel Simples (MMS): É uma linha que representa a média dos preços de fechamento do ativo ao longo de um determinado período de tempo. O período padrão é geralmente definido como 20 períodos, mas os traders podem ajustá-lo conforme a sua estratégia.\n",
        "\n",
        "- Banda Superior: Essa banda é calculada somando duas vezes o desvio padrão da média móvel simples ao preço médio. A fórmula é: Banda Superior = Média Móvel Simples + (2 * Desvio Padrão).\n",
        "\n",
        "- Banda Inferior: Similarmente à banda superior, a banda inferior é calculada subtraindo duas vezes o desvio padrão da média móvel simples do preço médio. A fórmula é: Banda Inferior = Média Móvel Simples - (2 * Desvio Padrão).\n",
        "\n",
        "As bandas de Bollinger se expandem ou contraem em resposta à volatilidade do mercado. Quando a volatilidade é alta, as bandas se expandem, e quando a volatilidade é baixa, elas se contraem. Isso faz com que as bandas se ajustem às mudanças de volatilidade, proporcionando uma representação visual da possível amplitude dos movimentos de preços."
      ],
      "metadata": {
        "id": "vdpQKmye5b-2"
      }
    },
    {
      "cell_type": "markdown",
      "source": [
        "#1.Instalando e importando Bibliotecas"
      ],
      "metadata": {
        "id": "lPavKsjjFpgj"
      }
    },
    {
      "cell_type": "code",
      "source": [
        "!pip install yfinance\n",
        "!pip install vectorbt\n",
        "!pip install ta"
      ],
      "metadata": {
        "id": "v8imKHZtpIyn"
      },
      "execution_count": null,
      "outputs": []
    },
    {
      "cell_type": "code",
      "source": [
        "import pandas as pd\n",
        "import numpy as np\n",
        "\n",
        "import vectorbt as vbt\n",
        "import yfinance as yf\n",
        "import ta\n",
        "\n",
        "import plotly.graph_objects as go\n",
        "import warnings\n",
        "warnings.filterwarnings(\"ignore\")"
      ],
      "metadata": {
        "id": "UpgWsOT2pJRf"
      },
      "execution_count": null,
      "outputs": []
    },
    {
      "cell_type": "markdown",
      "source": [
        "#2. Capturando os dados"
      ],
      "metadata": {
        "id": "JP7e8bdr6BfV"
      }
    },
    {
      "cell_type": "code",
      "source": [
        "ativo = 'PETR4.SA'\n",
        "dados_ohlc = vbt.YFData.download(ativo, start='2013-03-07').get()"
      ],
      "metadata": {
        "id": "87BcpTa88bZy"
      },
      "execution_count": null,
      "outputs": []
    },
    {
      "cell_type": "markdown",
      "source": [
        "#3. Tratando, modelando e separando os dados"
      ],
      "metadata": {
        "id": "rtF0r5Yx6ZiU"
      }
    },
    {
      "cell_type": "code",
      "source": [
        "proporcao_treino = 0.70\n",
        "\n",
        "# Calcular o índice de separação\n",
        "total_linhas = len(dados_ohlc)\n",
        "indice_separacao = int(total_linhas * proporcao_treino)\n",
        "\n",
        "# Dividir o DataFrame\n",
        "dados_teste = dados_ohlc.iloc[:indice_separacao]\n",
        "dados_valid = dados_ohlc.iloc[indice_separacao:]\n",
        "\n",
        "# Verificar os tamanhos dos conjuntos\n",
        "print(f\"Tamanho do conjunto de teste: {len(dados_teste)}\")\n",
        "print(f\"Tamanho do conjunto de validação: {len(dados_valid)}\")"
      ],
      "metadata": {
        "id": "EyxVLCl58zWt"
      },
      "execution_count": null,
      "outputs": []
    },
    {
      "cell_type": "markdown",
      "source": [
        "#4. Definindo metricas a serem testadas"
      ],
      "metadata": {
        "id": "rufDVrfx6_O8"
      }
    },
    {
      "cell_type": "code",
      "source": [
        "MA_BB =[3, 5, 7, 9, 12, 20, 21, 22, 30, 34, 50, 60, 66, 90, 100, 110, 120, 200]\n",
        "windows_dev = list(range(1, 5, 1))"
      ],
      "metadata": {
        "id": "OrCH2mmihsO2"
      },
      "execution_count": null,
      "outputs": []
    },
    {
      "cell_type": "markdown",
      "source": [
        "#5. Realizando os backtestings"
      ],
      "metadata": {
        "id": "LoecVHwy7GXP"
      }
    },
    {
      "cell_type": "code",
      "source": [
        "lista_resultados = []\n",
        "lista_backtest = []\n",
        "\n",
        "for MA in MA_BB:\n",
        "    for windows in windows_dev:\n",
        "        dados_teste2 = dados_teste.copy()\n",
        "        bbol_ativo = ta.volatility.BollingerBands(dados_teste2.Close, window=MA, window_dev=windows)\n",
        "        dados_teste2['BBol_sup'] = bbol_ativo.bollinger_hband()\n",
        "        dados_teste2['BBol_inf'] = bbol_ativo.bollinger_lband()\n",
        "        dados_teste2['BBol_media'] = bbol_ativo.bollinger_mavg()\n",
        "        dados_teste2 = dados_teste2.dropna()\n",
        "\n",
        "        entradas = (dados_teste2['Close'] < dados_teste2['BBol_inf']).shift(+1).fillna(False)\n",
        "        saidas = (dados_teste2['Close'] > dados_teste2['BBol_sup']).shift(+1).fillna(False)\n",
        "\n",
        "        backtest = vbt.Portfolio.from_signals(dados_teste2['Close'],\n",
        "                                                    entradas,\n",
        "                                                    saidas,\n",
        "                                                    direction='longonly',\n",
        "                                                    size_type='Amount', size=1)\n",
        "        retorno_holding = (dados_teste2['Close'].iloc[-1] - dados_teste2['Close'].iloc[0]) / dados_teste2['Close'].iloc[0]\n",
        "\n",
        "        lista_resultados.append([MA, windows, backtest.stats()['Total Return [%]'], backtest.trades.records_readable[\"Return\"].sum()*100, backtest.stats()['Benchmark Return [%]'], retorno_holding*100 ])\n",
        "        lista_backtest.append(backtest)\n"
      ],
      "metadata": {
        "id": "ZUQ_X4FWB-C8"
      },
      "execution_count": null,
      "outputs": []
    },
    {
      "cell_type": "markdown",
      "source": [
        "#6. Conferindo os 10 melhores resultados"
      ],
      "metadata": {
        "id": "6bO2U86NP_1h"
      }
    },
    {
      "cell_type": "code",
      "source": [
        "resultados = pd.DataFrame(lista_resultados, columns=['Média','Desvio', 'Resultado', \"Resultado 2\", 'Resultado Holding', 'Resultado Holding 2'])\n",
        "top10 = resultados.sort_values(by='Resultado 2', ascending=False).head(10)\n",
        "top10"
      ],
      "metadata": {
        "id": "M3jx8x__N9Up"
      },
      "execution_count": null,
      "outputs": []
    },
    {
      "cell_type": "markdown",
      "source": [
        "#7. Visualização individual do teste"
      ],
      "metadata": {
        "id": "12bzGbT7QC2x"
      }
    },
    {
      "cell_type": "code",
      "source": [
        "lista_backtest[1].plot().show()"
      ],
      "metadata": {
        "id": "tL2r59BUPjoB"
      },
      "execution_count": null,
      "outputs": []
    },
    {
      "cell_type": "code",
      "source": [
        "lista_backtest[1].stats()"
      ],
      "metadata": {
        "id": "uWJzHXboQF7J"
      },
      "execution_count": null,
      "outputs": []
    },
    {
      "cell_type": "markdown",
      "source": [
        "#8. Teste Apenas com os parametros top10 dos dados de teste"
      ],
      "metadata": {
        "id": "DvtfNodeQgW5"
      }
    },
    {
      "cell_type": "code",
      "source": [
        "medias_top = top10['Média'].tolist()\n",
        "desvios_top = top10['Desvio'].tolist()"
      ],
      "metadata": {
        "id": "3Zeu8b1MQjBg"
      },
      "execution_count": null,
      "outputs": []
    },
    {
      "cell_type": "code",
      "source": [
        "lista_resultados_teste = []\n",
        "lista_backtest_teste = []\n",
        "\n",
        "for i in range(len(medias_top)):\n",
        "        dados_valid2 = dados_valid.copy()\n",
        "        bbol_ativo = ta.volatility.BollingerBands(dados_valid2.Close, window=medias_top[i], window_dev=desvios_top[i])\n",
        "        dados_valid2['BBol_sup'] = bbol_ativo.bollinger_hband()\n",
        "        dados_valid2['BBol_inf'] = bbol_ativo.bollinger_lband()\n",
        "        dados_valid2['BBol_media'] = bbol_ativo.bollinger_mavg()\n",
        "        dados_valid2 = dados_valid2.dropna()\n",
        "\n",
        "        entradas = (dados_valid2['Close'] < dados_valid2['BBol_inf']).shift(+1).fillna(False)\n",
        "        saidas = (dados_valid2['Close'] > dados_valid2['BBol_sup']).shift(+1).fillna(False)\n",
        "\n",
        "        backtest = vbt.Portfolio.from_signals(dados_valid2['Close'],\n",
        "                                                    entradas,\n",
        "                                                    saidas,\n",
        "                                                    direction='longonly',\n",
        "                                                    size_type='Amount', size=1)\n",
        "        retorno_holding = (dados_valid2['Close'].iloc[-1] - dados_valid2['Close'].iloc[0]) / dados_valid2['Close'].iloc[0]\n",
        "\n",
        "        lista_resultados_teste.append([medias_top[i], desvios_top[i], backtest.stats()['Total Return [%]'], backtest.trades.records_readable[\"Return\"].sum()*100, backtest.stats()['Benchmark Return [%]'], retorno_holding*100 ])\n",
        "        lista_backtest_teste.append(backtest)"
      ],
      "metadata": {
        "id": "pFs_zIQcRL6R"
      },
      "execution_count": null,
      "outputs": []
    },
    {
      "cell_type": "code",
      "source": [
        "resultados_teste = pd.DataFrame(lista_resultados_teste, columns=['Média','Desvio', 'Resultado', \"Resultado 2\", 'Resultado Holding', 'Resultado Holding 2'])\n",
        "top10_teste = resultados_teste.sort_values(by='Resultado 2', ascending=False).head(10)\n",
        "top10_teste"
      ],
      "metadata": {
        "id": "MN4HedVPR-5R"
      },
      "execution_count": null,
      "outputs": []
    },
    {
      "cell_type": "markdown",
      "source": [
        "#9. Backtesting com dados de Validação"
      ],
      "metadata": {
        "id": "WDD2KzVxSxCZ"
      }
    },
    {
      "cell_type": "code",
      "source": [
        "lista_resultados_valid = []\n",
        "lista_backtest_valid = []\n",
        "\n",
        "for MA in MA_BB:\n",
        "    for windows in windows_dev:\n",
        "        dados_valid2 = dados_valid.copy()\n",
        "        bbol_ativo = ta.volatility.BollingerBands(dados_valid2.Close, window=MA, window_dev=windows)\n",
        "        dados_valid2['BBol_sup'] = bbol_ativo.bollinger_hband()\n",
        "        dados_valid2['BBol_inf'] = bbol_ativo.bollinger_lband()\n",
        "        dados_valid2['BBol_media'] = bbol_ativo.bollinger_mavg()\n",
        "        dados_valid2 = dados_valid2.dropna()\n",
        "\n",
        "        entradas = (dados_valid2['Close'] < dados_valid2['BBol_inf']).shift(+1).fillna(False)\n",
        "        saidas = (dados_valid2['Close'] > dados_valid2['BBol_sup']).shift(+1).fillna(False)\n",
        "\n",
        "        backtest = vbt.Portfolio.from_signals(dados_valid2['Close'],\n",
        "                                                    entradas,\n",
        "                                                    saidas,\n",
        "                                                    direction='longonly',\n",
        "                                                    size_type='Amount', size=1)\n",
        "        retorno_holding = (dados_valid2['Close'].iloc[-1] - dados_valid2['Close'].iloc[0]) / dados_valid2['Close'].iloc[0]\n",
        "\n",
        "        lista_resultados_valid.append([MA, windows, backtest.stats()['Total Return [%]'], backtest.trades.records_readable[\"Return\"].sum()*100, backtest.stats()['Benchmark Return [%]'], retorno_holding*100 ])\n",
        "        lista_backtest_valid.append(backtest)\n"
      ],
      "metadata": {
        "id": "h6A9MlG-SyFi"
      },
      "execution_count": null,
      "outputs": []
    },
    {
      "cell_type": "code",
      "source": [
        "resultados_valid = pd.DataFrame(lista_resultados_valid, columns=['Média','Desvio', 'Resultado', \"Resultado 2\", 'Resultado Holding', 'Resultado Holding 2'])\n",
        "top10_valid = resultados_valid.sort_values(by='Resultado', ascending=False).head(10)\n",
        "top10_valid"
      ],
      "metadata": {
        "id": "r5ZQ3yM2TNcJ"
      },
      "execution_count": null,
      "outputs": []
    },
    {
      "cell_type": "code",
      "source": [
        "lista_backtest_valid[13].plot().show()"
      ],
      "metadata": {
        "id": "V77JRbdhVdZ5"
      },
      "execution_count": null,
      "outputs": []
    },
    {
      "cell_type": "code",
      "source": [
        "lista_backtest_valid[13].stats()"
      ],
      "metadata": {
        "id": "shPQJ3eHWtHD"
      },
      "execution_count": null,
      "outputs": []
    },
    {
      "cell_type": "markdown",
      "source": [
        "## Conclusão do Projeto\n",
        "\n",
        "**O projeto de backtesting utilizando Bandas de Bollinger forneceu varios insights**\n",
        "\n",
        "### Possibilidades de Melhoria\n",
        "\n",
        "Os resultados mostram que há oportunidades para otimizar a estratégia. Ajustar os parâmetros das Bandas de Bollinger, como o período da média móvel e o número de desvios padrão, pode impactar significativamente os resultados. Além disso, ajustar os critérios de entrada e saída, e incorporar filtros adicionais pode melhorar o desempenho da estratégia.\n",
        "\n",
        "Recomenda-se experimentar diferentes configurações e parâmetros para adaptar a estratégia às características específicas do ativo ou do mercado em questão, buscando um melhor equilíbrio entre risco e retorno.\n",
        "\n",
        "---\n",
        "\n",
        "Se precisar de ajuda para ajustar a estratégia ou realizar análises adicionais, sinta-se à vontade para entrar em contato.\n"
      ],
      "metadata": {
        "id": "nSY_EeIrKWyy"
      }
    }
  ]
}